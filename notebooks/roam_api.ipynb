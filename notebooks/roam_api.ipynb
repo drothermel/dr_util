{
 "cells": [
  {
   "cell_type": "code",
   "execution_count": 1,
   "id": "0bfdc8c6-bc87-4831-9900-b52ae377acf2",
   "metadata": {},
   "outputs": [],
   "source": [
    "from dr_util.api_wrappers import roam_utils as ru"
   ]
  },
  {
   "cell_type": "markdown",
   "id": "cfa4fd58-b915-4247-a067-5058ebab7cd2",
   "metadata": {},
   "source": [
    "Useful Docs:\n",
    "- Write actions: [here](https://roamresearch.com/#/app/developer-documentation/page/IEmaIxzTU)\n",
    "- Pull Actions: [here](https://roamresearch.com/#/app/developer-documentation/page/hVxZlW31i)\n",
    "- ...with extra pattern info: [here](https://docs.datomic.com/query/query-pull.html)\n",
    "- Then extend to pull many: [here](https://roamresearch.com/#/app/developer-documentation/page/UAK4JsX9y)"
   ]
  },
  {
   "cell_type": "markdown",
   "id": "ebed63b4-89f1-4323-baec-ae52c853e2b3",
   "metadata": {},
   "source": [
    "## Create the Client\n",
    "TODO: don't commit the token"
   ]
  },
  {
   "cell_type": "code",
   "execution_count": 2,
   "id": "65fb343a-bd1c-4ecb-8b2d-6f31c552f978",
   "metadata": {},
   "outputs": [],
   "source": [
    "client = ru.RoamBackendClient(\n",
    "  token='roam-graph-token-m84asuuLkJzT7i19JS6SX00ILBI9r',\n",
    "  graph='life_planning',\n",
    ")"
   ]
  },
  {
   "cell_type": "markdown",
   "id": "fae72f60-9e5c-46d8-93f0-58cf5156493f",
   "metadata": {},
   "source": [
    "## Pull Request\n",
    "Get the page with all of its children and references."
   ]
  },
  {
   "cell_type": "code",
   "execution_count": 3,
   "id": "8f3bcd1d-7cca-4492-ad4e-bebf7760ceee",
   "metadata": {},
   "outputs": [
    {
     "data": {
      "text/plain": [
       "{':node/title': 'October 5th, 2024',\n",
       " ':block/children': [{':block/uid': '8iuuk1sRN',\n",
       "   ':block/string': \"Can I get the data that's in this block\"}],\n",
       " ':block/uid': '10-05-2024'}"
      ]
     },
     "execution_count": 3,
     "metadata": {},
     "output_type": "execute_result"
    }
   ],
   "source": [
    "ru.pull(\n",
    "  client,\n",
    "  pattern=\"[:block/uid :node/title :block/string {:block/children [:block/uid :block/string]} {:block/refs [:node/title :block/string :block/uid]}]\", \n",
    "  eid=\"[:block/uid \\\"10-05-2024\\\"]\",\n",
    ")"
   ]
  },
  {
   "cell_type": "code",
   "execution_count": 7,
   "id": "d42e5d25-27e8-43bb-8960-2aa016e60200",
   "metadata": {},
   "outputs": [],
   "source": [
    "pull_res = ru.pull(\n",
    "  client,\n",
    "  eid=\"[:block/uid \\\"10-05-2024\\\"]\",\n",
    "  pattern=\"[:block/uid :node/title :block/string {:block/refs [:node/title :block/string :block/uid]} {:block/children ...}]\", \n",
    ")"
   ]
  },
  {
   "cell_type": "code",
   "execution_count": 17,
   "id": "4aa04ea4-2ce7-4d24-9b0c-7490bfc31a8b",
   "metadata": {},
   "outputs": [
    {
     "data": {
      "text/plain": [
       "{':block/refs': [{':node/title': \"Today's Progress\",\n",
       "   ':block/uid': 'VfYS0XB_O'}],\n",
       " ':block/uid': 'FdQAgW3nY',\n",
       " ':block/string': \"[[Today's Progress]]\"}"
      ]
     },
     "execution_count": 17,
     "metadata": {},
     "output_type": "execute_result"
    }
   ],
   "source": [
    "pull_res[':block/children'][0][':block/children'][0][':block/children'][0][':block/children'][0][':block/children'][0][':block/children'][0]"
   ]
  },
  {
   "cell_type": "code",
   "execution_count": 20,
   "id": "e5dbf85d-7266-400a-bf1e-9bab83275b90",
   "metadata": {},
   "outputs": [
    {
     "data": {
      "text/plain": [
       "\"Can I get the data that's in this block\""
      ]
     },
     "execution_count": 20,
     "metadata": {},
     "output_type": "execute_result"
    }
   ],
   "source": [
    "pull_res[':block/children'][0][':block/string']"
   ]
  },
  {
   "cell_type": "code",
   "execution_count": 21,
   "id": "f93e5935-8302-4944-b95e-078e83e864b8",
   "metadata": {},
   "outputs": [
    {
     "data": {
      "text/plain": [
       "'8iuuk1sRN'"
      ]
     },
     "execution_count": 21,
     "metadata": {},
     "output_type": "execute_result"
    }
   ],
   "source": [
    "pull_res[':block/children'][0][':block/uid']"
   ]
  },
  {
   "cell_type": "markdown",
   "id": "e17651da-9f59-4fc2-9a17-9944ba0c762b",
   "metadata": {},
   "source": [
    "## Write to a block\n",
    "This worked!!"
   ]
  },
  {
   "cell_type": "code",
   "execution_count": 22,
   "id": "eba04442-d90f-47b5-ac91-d9c064b28356",
   "metadata": {},
   "outputs": [
    {
     "data": {
      "text/plain": [
       "200"
      ]
     },
     "execution_count": 22,
     "metadata": {},
     "output_type": "execute_result"
    }
   ],
   "source": [
    "ru.update_block(\n",
    "    client,\n",
    "    body={\n",
    "        'block': {\n",
    "            \"uid\": pull_res[':block/children'][0][':block/uid'],\n",
    "            \"string\": \"can we overwrite this??\",\n",
    "        },\n",
    "    },\n",
    ")"
   ]
  }
 ],
 "metadata": {
  "kernelspec": {
   "display_name": "Python 3 (ipykernel)",
   "language": "python",
   "name": "python3"
  },
  "language_info": {
   "codemirror_mode": {
    "name": "ipython",
    "version": 3
   },
   "file_extension": ".py",
   "mimetype": "text/x-python",
   "name": "python",
   "nbconvert_exporter": "python",
   "pygments_lexer": "ipython3",
   "version": "3.12.2"
  }
 },
 "nbformat": 4,
 "nbformat_minor": 5
}
